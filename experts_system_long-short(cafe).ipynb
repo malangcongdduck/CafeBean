{
 "cells": [
  {
   "cell_type": "code",
   "execution_count": 9,
   "id": "5fede0ad-abd1-4235-b972-eb5c14a69164",
   "metadata": {},
   "outputs": [],
   "source": [
    "class ExpertSystem:\n",
    "    def __init__(self):\n",
    "        # 장기지식: 메뉴 정보\n",
    "        self.long_term_knowledge = {\n",
    "            \"아메리카노\": [\"카페인\", \"덜단맛\"],\n",
    "            \"카페라떼\": [\"카페인\", \"단맛\"],\n",
    "            \"레몬에이드\": [\"논카페인\", \"덜단맛\"],\n",
    "            \"망고에이드\": [\"논카페인\", \"단맛\"],\n",
    "            \"초코쉐이크\": [\"논카페인\", \"단맛\"]\n",
    "        }\n",
    "        # 단기지식: 사용자 세션 정보\n",
    "        self.short_term_knowledge = {\"preferences\": []}\n",
    "\n",
    "    def add_user_preference(self, preference):\n",
    "        # 사용자 선호도 추가\n",
    "        self.short_term_knowledge[\"preferences\"].append(preference)\n",
    "\n",
    "    def recommend_menu(self):\n",
    "        # 사용자 선호도에 기반한 메뉴 추천\n",
    "        recommendations = []\n",
    "        for menu, attributes in self.long_term_knowledge.items():\n",
    "            if all(pref in attributes for pref in self.short_term_knowledge[\"preferences\"]):\n",
    "                recommendations.append(menu)\n",
    "        return recommendations"
   ]
  },
  {
   "cell_type": "code",
   "execution_count": 10,
   "id": "7505785b-c221-4b56-9b21-0ecf7587dfb0",
   "metadata": {},
   "outputs": [
    {
     "name": "stdout",
     "output_type": "stream",
     "text": [
      "<전문가시스템을 이용한 음료추천 시스템>\n",
      "당신의 선호도를 알려주세요 (e.g., 단맛-덜단맛, 카페인-논카페인). 하나씩 입력 후, '끝' 이라고 입력해주세요.\n"
     ]
    },
    {
     "name": "stdin",
     "output_type": "stream",
     "text": [
      "\n",
      "1) 선호하는 종류:  단맛\n",
      "\n",
      "2) 선호하는 종류:  논카페인\n",
      "\n",
      "3) 선호하는 종류:  끝\n"
     ]
    },
    {
     "name": "stdout",
     "output_type": "stream",
     "text": [
      "\n",
      "당신의 입맛에 맞는 추천음료:\n",
      "망고에이드\n",
      "초코쉐이크\n"
     ]
    }
   ],
   "source": [
    "def main():\n",
    "    system = ExpertSystem()\n",
    "\n",
    "    print(\"<전문가시스템을 이용한 음료추천 시스템>\")\n",
    "    print(\"당신의 선호도를 알려주세요 (e.g., 단맛-덜단맛, 카페인-논카페인). 하나씩 입력 후, '끝' 이라고 입력해주세요.\")\n",
    "    i = 1\n",
    "    \n",
    "    while True:\n",
    "        pref = input(f\"\\n{i}) 선호하는 종류: \").strip()\n",
    "        if pref.lower() == '끝':\n",
    "            break\n",
    "        system.add_user_preference(pref)\n",
    "        i += 1\n",
    "\n",
    "    recommendations = system.recommend_menu()\n",
    "\n",
    "    if recommendations:\n",
    "        print(\"\\n당신의 입맛에 맞는 추천음료:\")\n",
    "        for menu in recommendations:\n",
    "            print(menu)\n",
    "    else:\n",
    "        print(\"\\n죄송합니다, 당신의 선호도에 맞는 음료를 찾지 못했습니다.\")\n",
    "\n",
    "if __name__ == \"__main__\":\n",
    "    main()"
   ]
  },
  {
   "cell_type": "code",
   "execution_count": null,
   "id": "3366d193-ea4c-47d4-bc38-b16590733db4",
   "metadata": {},
   "outputs": [],
   "source": []
  }
 ],
 "metadata": {
  "kernelspec": {
   "display_name": "Python 3",
   "language": "python",
   "name": "python3"
  },
  "language_info": {
   "codemirror_mode": {
    "name": "ipython",
    "version": 3
   },
   "file_extension": ".py",
   "mimetype": "text/x-python",
   "name": "python",
   "nbconvert_exporter": "python",
   "pygments_lexer": "ipython3",
   "version": "3.8.10"
  }
 },
 "nbformat": 4,
 "nbformat_minor": 5
}
